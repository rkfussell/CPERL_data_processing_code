{
 "cells": [
  {
   "cell_type": "code",
   "execution_count": 1,
   "id": "e15588b4",
   "metadata": {},
   "outputs": [],
   "source": [
    "import pandas as pd\n",
    "import numpy as np\n",
    "pd.options.mode.chained_assignment = None"
   ]
  },
  {
   "cell_type": "markdown",
   "id": "7ec03a28",
   "metadata": {},
   "source": [
    "# Sources"
   ]
  },
  {
   "cell_type": "code",
   "execution_count": 2,
   "id": "fd38b3a5",
   "metadata": {},
   "outputs": [],
   "source": [
    "sources1 = pd.read_csv(\"Sources_coding_complete_20-21.csv\",encoding='latin-1', skiprows = [1,2])\n",
    "sources2 = pd.read_csv(\"Sources_coding_intro_21-22.csv\", skiprows = [1,2])\n",
    "sources3 = pd.read_csv(\"Sources_coding_upper_21-22.csv\", skiprows = [1,2])"
   ]
  },
  {
   "cell_type": "code",
   "execution_count": 3,
   "id": "05227143",
   "metadata": {},
   "outputs": [],
   "source": [
    "def recode_sources(df_to_modify, df_to_return, exp, n):\n",
    "    n = str(n)\n",
    "    if exp == \"PM\":\n",
    "        Q = \"Q17_\"\n",
    "    elif exp == \"BM\":\n",
    "        Q = \"Q43_\"\n",
    "    elif exp == \"SS\":\n",
    "        Q = \"Q62_\"\n",
    "    elif exp == \"SG\":\n",
    "        Q = \"Q80_\"\n",
    "    try:\n",
    "        df_to_return[\"Response\"] = df_to_modify[Q+n+\"_3\"]\n",
    "    except:\n",
    "        Q = \"Q107_\"\n",
    "        df_to_return[\"Response\"] = df_to_modify[Q+n+\"_3\"]\n",
    "    df_to_return[\"code\"] = \"O\"\n",
    "    df_to_return.loc[(df_to_modify[exp+n+'_PLO']==\"P\") & (df_to_modify[exp+n+'_PsMs'] == \"Ps\"),'code'] = \"P\"\n",
    "    df_to_return.loc[(df_to_modify[exp+n+'_PLO']==\"L\"),'code'] = \"L\"\n",
    "    df_to_return.loc[((df_to_modify[exp+n+'_PLO']==\"P\") & (df_to_modify[exp+n+'_PsMs'] == \"Ms\"))|(df_to_modify[exp+n+\"_CSV\"]==\"S\"),'code'] = \"S\"\n",
    "    return df_to_return"
   ]
  },
  {
   "cell_type": "code",
   "execution_count": 4,
   "id": "d2c0f958",
   "metadata": {},
   "outputs": [],
   "source": [
    "def recode_sources_file(s, upper = True):\n",
    "    PM1 = recode_sources(s, pd.DataFrame({\"DataSource\":s[\"DataSource\"], \"ResponseId\":s[\"ResponseId\"]}),\"PM\",1)\n",
    "    PM2 = recode_sources(s, pd.DataFrame({\"DataSource\":s[\"DataSource\"], \"ResponseId\":s[\"ResponseId\"]}),\"PM\",2)\n",
    "    PM3 = recode_sources(s, pd.DataFrame({\"DataSource\":s[\"DataSource\"], \"ResponseId\":s[\"ResponseId\"]}),\"PM\",3)\n",
    "    PM4 = recode_sources(s, pd.DataFrame({\"DataSource\":s[\"DataSource\"], \"ResponseId\":s[\"ResponseId\"]}),\"PM\",4)\n",
    "    PM5 = recode_sources(s, pd.DataFrame({\"DataSource\":s[\"DataSource\"], \"ResponseId\":s[\"ResponseId\"]}),\"PM\",5)\n",
    "    PM6 = recode_sources(s, pd.DataFrame({\"DataSource\":s[\"DataSource\"], \"ResponseId\":s[\"ResponseId\"]}),\"PM\",6)\n",
    "    PM7 = recode_sources(s, pd.DataFrame({\"DataSource\":s[\"DataSource\"], \"ResponseId\":s[\"ResponseId\"]}),\"PM\",7)\n",
    "    PM8 = recode_sources(s, pd.DataFrame({\"DataSource\":s[\"DataSource\"], \"ResponseId\":s[\"ResponseId\"]}),\"PM\",8)\n",
    "    PM9 = recode_sources(s, pd.DataFrame({\"DataSource\":s[\"DataSource\"], \"ResponseId\":s[\"ResponseId\"]}),\"PM\",9)\n",
    "    PM10 = recode_sources(s, pd.DataFrame({\"DataSource\":s[\"DataSource\"], \"ResponseId\":s[\"ResponseId\"]}),\"PM\",10)\n",
    "    sources = pd.concat([PM1,PM2,PM3,PM4,PM5,PM6,PM7,PM8,PM9,PM10])\n",
    "    if upper:\n",
    "        BM1 = recode_sources(s, pd.DataFrame({\"DataSource\":s[\"DataSource\"], \"ResponseId\":s[\"ResponseId\"]}),\"BM\",1)\n",
    "        BM2 = recode_sources(s, pd.DataFrame({\"DataSource\":s[\"DataSource\"], \"ResponseId\":s[\"ResponseId\"]}),\"BM\",2)\n",
    "        BM3 = recode_sources(s, pd.DataFrame({\"DataSource\":s[\"DataSource\"], \"ResponseId\":s[\"ResponseId\"]}),\"BM\",3)\n",
    "        BM4 = recode_sources(s, pd.DataFrame({\"DataSource\":s[\"DataSource\"], \"ResponseId\":s[\"ResponseId\"]}),\"BM\",4)\n",
    "        BM5 = recode_sources(s, pd.DataFrame({\"DataSource\":s[\"DataSource\"], \"ResponseId\":s[\"ResponseId\"]}),\"BM\",5)\n",
    "        BM6 = recode_sources(s, pd.DataFrame({\"DataSource\":s[\"DataSource\"], \"ResponseId\":s[\"ResponseId\"]}),\"BM\",6)\n",
    "        BM7 = recode_sources(s, pd.DataFrame({\"DataSource\":s[\"DataSource\"], \"ResponseId\":s[\"ResponseId\"]}),\"BM\",7)\n",
    "        BM8 = recode_sources(s, pd.DataFrame({\"DataSource\":s[\"DataSource\"], \"ResponseId\":s[\"ResponseId\"]}),\"BM\",8)\n",
    "        BM9 = recode_sources(s, pd.DataFrame({\"DataSource\":s[\"DataSource\"], \"ResponseId\":s[\"ResponseId\"]}),\"BM\",9)\n",
    "        BM10 = recode_sources(s, pd.DataFrame({\"DataSource\":s[\"DataSource\"], \"ResponseId\":s[\"ResponseId\"]}),\"BM\",10)\n",
    "\n",
    "        SG1 = recode_sources(s, pd.DataFrame({\"DataSource\":s[\"DataSource\"], \"ResponseId\":s[\"ResponseId\"]}),\"SG\",1)\n",
    "        SG2 = recode_sources(s, pd.DataFrame({\"DataSource\":s[\"DataSource\"], \"ResponseId\":s[\"ResponseId\"]}),\"SG\",2)\n",
    "        SG3 = recode_sources(s, pd.DataFrame({\"DataSource\":s[\"DataSource\"], \"ResponseId\":s[\"ResponseId\"]}),\"SG\",3)\n",
    "        SG4 = recode_sources(s, pd.DataFrame({\"DataSource\":s[\"DataSource\"], \"ResponseId\":s[\"ResponseId\"]}),\"SG\",4)\n",
    "        SG5 = recode_sources(s, pd.DataFrame({\"DataSource\":s[\"DataSource\"], \"ResponseId\":s[\"ResponseId\"]}),\"SG\",5)\n",
    "        SG6 = recode_sources(s, pd.DataFrame({\"DataSource\":s[\"DataSource\"], \"ResponseId\":s[\"ResponseId\"]}),\"SG\",6)\n",
    "        SG7 = recode_sources(s, pd.DataFrame({\"DataSource\":s[\"DataSource\"], \"ResponseId\":s[\"ResponseId\"]}),\"SG\",7)\n",
    "        SG8 = recode_sources(s, pd.DataFrame({\"DataSource\":s[\"DataSource\"], \"ResponseId\":s[\"ResponseId\"]}),\"SG\",8)\n",
    "        SG9 = recode_sources(s, pd.DataFrame({\"DataSource\":s[\"DataSource\"], \"ResponseId\":s[\"ResponseId\"]}),\"SG\",9)\n",
    "        SG10 = recode_sources(s, pd.DataFrame({\"DataSource\":s[\"DataSource\"], \"ResponseId\":s[\"ResponseId\"]}),\"SG\",10)\n",
    "\n",
    "        SS1 = recode_sources(s, pd.DataFrame({\"DataSource\":s[\"DataSource\"], \"ResponseId\":s[\"ResponseId\"]}),\"SS\",1)\n",
    "        SS2 = recode_sources(s, pd.DataFrame({\"DataSource\":s[\"DataSource\"], \"ResponseId\":s[\"ResponseId\"]}),\"SS\",2)\n",
    "        SS3 = recode_sources(s, pd.DataFrame({\"DataSource\":s[\"DataSource\"], \"ResponseId\":s[\"ResponseId\"]}),\"SS\",3)\n",
    "        SS4 = recode_sources(s, pd.DataFrame({\"DataSource\":s[\"DataSource\"], \"ResponseId\":s[\"ResponseId\"]}),\"SS\",4)\n",
    "        SS5 = recode_sources(s, pd.DataFrame({\"DataSource\":s[\"DataSource\"], \"ResponseId\":s[\"ResponseId\"]}),\"SS\",5)\n",
    "        SS6 = recode_sources(s, pd.DataFrame({\"DataSource\":s[\"DataSource\"], \"ResponseId\":s[\"ResponseId\"]}),\"SS\",6)\n",
    "        SS7 = recode_sources(s, pd.DataFrame({\"DataSource\":s[\"DataSource\"], \"ResponseId\":s[\"ResponseId\"]}),\"SS\",7)\n",
    "        SS8 = recode_sources(s, pd.DataFrame({\"DataSource\":s[\"DataSource\"], \"ResponseId\":s[\"ResponseId\"]}),\"SS\",8)\n",
    "        SS9 = recode_sources(s, pd.DataFrame({\"DataSource\":s[\"DataSource\"], \"ResponseId\":s[\"ResponseId\"]}),\"SS\",9)\n",
    "        SS10 = recode_sources(s, pd.DataFrame({\"DataSource\":s[\"DataSource\"], \"ResponseId\":s[\"ResponseId\"]}),\"SS\",10)\n",
    "\n",
    "        sources = pd.concat([PM1,PM2,PM3,PM4,PM5,PM6,PM7,PM8,PM9,PM10,BM1,BM2,BM3,BM4,BM5,BM6,BM7,BM8,BM9,BM10,SG1,SG2,SG3,SG4,SG5,SG6,SG7,SG8,SG9,SG10,SS1,SS2,SS3,SS4,SS5,SS6,SS7,SS8,SS9,SS10])\n",
    "    sources = sources.dropna(subset=['Response'])\n",
    "    return sources"
   ]
  },
  {
   "cell_type": "code",
   "execution_count": 5,
   "id": "4ac68366",
   "metadata": {},
   "outputs": [],
   "source": [
    "df1 = recode_sources_file(sources1, upper = True)\n",
    "df2 = recode_sources_file(sources2, upper = False)\n",
    "df3 = recode_sources_file(sources3, upper = True)"
   ]
  },
  {
   "cell_type": "code",
   "execution_count": 6,
   "id": "53ab7a5f",
   "metadata": {},
   "outputs": [],
   "source": [
    "sources = pd.concat([df1,df2,df3])"
   ]
  },
  {
   "cell_type": "code",
   "execution_count": 7,
   "id": "126475d2",
   "metadata": {},
   "outputs": [],
   "source": [
    "sources.to_excel(\"sources.xlsx\")"
   ]
  },
  {
   "cell_type": "code",
   "execution_count": 8,
   "id": "f24f22a5",
   "metadata": {
    "scrolled": true
   },
   "outputs": [
    {
     "data": {
      "text/plain": [
       "L    2228\n",
       "O     408\n",
       "P     161\n",
       "S     102\n",
       "Name: code, dtype: int64"
      ]
     },
     "execution_count": 8,
     "metadata": {},
     "output_type": "execute_result"
    }
   ],
   "source": [
    "sources[\"code\"].value_counts()"
   ]
  },
  {
   "cell_type": "markdown",
   "id": "8ab05e8d",
   "metadata": {},
   "source": [
    "# Generic"
   ]
  },
  {
   "cell_type": "code",
   "execution_count": 9,
   "id": "4943eab1",
   "metadata": {},
   "outputs": [],
   "source": [
    "def recode_generic(df_to_modify, df_to_return,  CQ, n):\n",
    "    n = str(n)\n",
    "\n",
    "    df_to_return[\"Segmented_Response\"] = df_to_modify[CQ+n]\n",
    "\n",
    "    df_to_return[\"code\"] = \"O\"\n",
    "    df_to_return.loc[(df_to_modify[CQ+n+'_PLO']==\"P\") & (df_to_modify[CQ+n+'_PsMs'] == \"Ps\"),'code'] = \"P\"\n",
    "    df_to_return.loc[(df_to_modify[CQ+n+'_PLO']==\"L\"),'code'] = \"L\"\n",
    "    df_to_return.loc[((df_to_modify[CQ+n+'_PLO']==\"P\") & (df_to_modify[CQ+n+'_PsMs'] == \"Ms\"))|(df_to_modify[CQ+n+\"_CSV\"]==\"S\"),'code'] = \"S\"\n",
    "    return df_to_return"
   ]
  },
  {
   "cell_type": "code",
   "execution_count": 10,
   "id": "f279727b",
   "metadata": {},
   "outputs": [],
   "source": [
    "def recode_generic_file(s):\n",
    "    C1 = recode_generic(s, pd.DataFrame({\"DataSource\":s[\"DataSource\"], \"ResponseId\":s[\"ResponseId\"], \"Response_Generic_Classical\":s[\"Q68\"], \"Response_Generic_Quantum\":s[\"Q69\"], \"CQ\":\"C\"}),\"C\",1)\n",
    "    C2 = recode_generic(s, pd.DataFrame({\"DataSource\":s[\"DataSource\"], \"ResponseId\":s[\"ResponseId\"], \"Response_Generic_Classical\":s[\"Q68\"], \"Response_Generic_Quantum\":s[\"Q69\"], \"CQ\":\"C\"}),\"C\",2)\n",
    "    C3 = recode_generic(s, pd.DataFrame({\"DataSource\":s[\"DataSource\"], \"ResponseId\":s[\"ResponseId\"], \"Response_Generic_Classical\":s[\"Q68\"], \"Response_Generic_Quantum\":s[\"Q69\"], \"CQ\":\"C\"}),\"C\",3)\n",
    "    C4 = recode_generic(s, pd.DataFrame({\"DataSource\":s[\"DataSource\"], \"ResponseId\":s[\"ResponseId\"], \"Response_Generic_Classical\":s[\"Q68\"], \"Response_Generic_Quantum\":s[\"Q69\"], \"CQ\":\"C\"}),\"C\",4)\n",
    "    C5 = recode_generic(s, pd.DataFrame({\"DataSource\":s[\"DataSource\"], \"ResponseId\":s[\"ResponseId\"], \"Response_Generic_Classical\":s[\"Q68\"], \"Response_Generic_Quantum\":s[\"Q69\"], \"CQ\":\"C\"}),\"C\",5)\n",
    "    C6 = recode_generic(s, pd.DataFrame({\"DataSource\":s[\"DataSource\"], \"ResponseId\":s[\"ResponseId\"], \"Response_Generic_Classical\":s[\"Q68\"], \"Response_Generic_Quantum\":s[\"Q69\"], \"CQ\":\"C\"}),\"C\",6)\n",
    "    C7 = recode_generic(s, pd.DataFrame({\"DataSource\":s[\"DataSource\"], \"ResponseId\":s[\"ResponseId\"], \"Response_Generic_Classical\":s[\"Q68\"], \"Response_Generic_Quantum\":s[\"Q69\"], \"CQ\":\"C\"}),\"C\",7)\n",
    "    C8 = recode_generic(s, pd.DataFrame({\"DataSource\":s[\"DataSource\"], \"ResponseId\":s[\"ResponseId\"], \"Response_Generic_Classical\":s[\"Q68\"], \"Response_Generic_Quantum\":s[\"Q69\"], \"CQ\":\"C\"}),\"C\",8)\n",
    "    \n",
    "    Q1 = recode_generic(s, pd.DataFrame({\"DataSource\":s[\"DataSource\"], \"ResponseId\":s[\"ResponseId\"], \"Response_Generic_Classical\":s[\"Q68\"], \"Response_Generic_Quantum\":s[\"Q69\"], \"CQ\":\"Q\"}),\"Q\",1)\n",
    "    Q2 = recode_generic(s, pd.DataFrame({\"DataSource\":s[\"DataSource\"], \"ResponseId\":s[\"ResponseId\"], \"Response_Generic_Classical\":s[\"Q68\"], \"Response_Generic_Quantum\":s[\"Q69\"], \"CQ\":\"Q\"}),\"Q\",2)\n",
    "    Q3 = recode_generic(s, pd.DataFrame({\"DataSource\":s[\"DataSource\"], \"ResponseId\":s[\"ResponseId\"], \"Response_Generic_Classical\":s[\"Q68\"], \"Response_Generic_Quantum\":s[\"Q69\"], \"CQ\":\"Q\"}),\"Q\",3)\n",
    "    Q4 = recode_generic(s, pd.DataFrame({\"DataSource\":s[\"DataSource\"], \"ResponseId\":s[\"ResponseId\"], \"Response_Generic_Classical\":s[\"Q68\"], \"Response_Generic_Quantum\":s[\"Q69\"], \"CQ\":\"Q\"}),\"Q\",4)\n",
    "    Q5 = recode_generic(s, pd.DataFrame({\"DataSource\":s[\"DataSource\"], \"ResponseId\":s[\"ResponseId\"], \"Response_Generic_Classical\":s[\"Q68\"], \"Response_Generic_Quantum\":s[\"Q69\"], \"CQ\":\"Q\"}),\"Q\",5)\n",
    "    Q6 = recode_generic(s, pd.DataFrame({\"DataSource\":s[\"DataSource\"], \"ResponseId\":s[\"ResponseId\"], \"Response_Generic_Classical\":s[\"Q68\"], \"Response_Generic_Quantum\":s[\"Q69\"], \"CQ\":\"Q\"}),\"Q\",6)\n",
    "    Q7 = recode_generic(s, pd.DataFrame({\"DataSource\":s[\"DataSource\"], \"ResponseId\":s[\"ResponseId\"], \"Response_Generic_Classical\":s[\"Q68\"], \"Response_Generic_Quantum\":s[\"Q69\"], \"CQ\":\"Q\"}),\"Q\",7)\n",
    "    Q8 = recode_generic(s, pd.DataFrame({\"DataSource\":s[\"DataSource\"], \"ResponseId\":s[\"ResponseId\"], \"Response_Generic_Classical\":s[\"Q68\"], \"Response_Generic_Quantum\":s[\"Q69\"], \"CQ\":\"Q\"}),\"Q\",8)\n",
    "\n",
    "    generic = pd.concat([C1,C2,C3,C4,C5,C6,C7,C8,Q1,Q2,Q3,Q4,Q5,Q6,Q7,Q8])\n",
    "    generic = generic.dropna(subset=['Segmented_Response'])\n",
    "    return generic"
   ]
  },
  {
   "cell_type": "code",
   "execution_count": 11,
   "id": "868eccea",
   "metadata": {},
   "outputs": [],
   "source": [
    "df1 = recode_generic_file(sources1)\n",
    "df2 = pd.DataFrame({\"DataSource\":sources3[\"DataSource\"], \"ResponseId\":sources3[\"ResponseId\"], \"Response_Generic_Classical\":sources3[\"Q68\"], \"Response_Generic_Quantum\":sources3[\"Q69\"]})\n",
    "generic = pd.concat([df1,df2])"
   ]
  },
  {
   "cell_type": "code",
   "execution_count": 12,
   "id": "12fbaa89",
   "metadata": {},
   "outputs": [],
   "source": [
    "df1\n",
    "generic.to_excel(\"generic.xlsx\")"
   ]
  },
  {
   "cell_type": "markdown",
   "id": "ee4ce6b1",
   "metadata": {},
   "source": [
    "# More Better"
   ]
  },
  {
   "cell_type": "code",
   "execution_count": 13,
   "id": "0ebc3498",
   "metadata": {},
   "outputs": [],
   "source": [
    "MB1 = pd.read_csv(\"More_Better_20-21_updated_for_clustering.csv\")\n",
    "MB2 = pd.read_csv(\"MB_coding_PM+SG_21-22.csv\")"
   ]
  },
  {
   "cell_type": "code",
   "execution_count": 14,
   "id": "fa820322",
   "metadata": {},
   "outputs": [],
   "source": [
    "def recode_mb(df_to_modify, df_to_return, exp):\n",
    "    df_to_return[\"Experiment\"] = exp\n",
    "    df_to_return[\"P_more\"] = 0\n",
    "    df_to_return[\"L_more\"] = 0\n",
    "    df_to_return[\"S_more\"] = 0\n",
    "    \n",
    "    df_to_return[\"P_better\"] = 0\n",
    "    df_to_return[\"L_better\"] = 0\n",
    "    df_to_return[\"S_better\"] = 0\n",
    "    \n",
    "    df_to_return[\"More_response\"] = df_to_modify[exp+\"100_response\"]\n",
    "    df_to_return[\"More_explanation\"] = df_to_modify[exp+\"100_explanation\"]\n",
    "    df_to_return[\"L_more\"][df_to_modify[exp+\"100_NH\"].str.split('-').str[0].str.contains(\"PL\",na=False)] = 1\n",
    "    df_to_return[\"P_more\"][df_to_modify[exp+\"100_NH\"].str.split('-').str[0].str.contains(\"PP\",na=False)] = 1\n",
    "    df_to_return[\"S_more\"][df_to_modify[exp+\"100_NH\"].str.split('-').str[0].str.contains(\"S\",na=False)] = 1\n",
    "    \n",
    "    df_to_return[\"Better_response\"] = df_to_modify[exp+\"E_response\"]\n",
    "    df_to_return[\"Better_explanation\"] = df_to_modify[exp+\"E_explanation\"]\n",
    "    df_to_return[\"L_better\"][df_to_modify[exp+\"E_NH\"].str.split('-').str[0].str.contains(\"PL\",na=False)] = 1\n",
    "    df_to_return[\"P_better\"][df_to_modify[exp+\"E_NH\"].str.split('-').str[0].str.contains(\"PP\",na=False)] = 1\n",
    "    df_to_return[\"S_better\"][df_to_modify[exp+\"E_NH\"].str.split('-').str[0].str.contains(\"S\",na=False)] = 1\n",
    "    \n",
    "    df_to_return.loc[df_to_modify[exp+\"100_response\"]==\"SV\",\"More_response\"] = \"A single value is measured.\"\n",
    "    df_to_return.loc[df_to_modify[exp+\"100_response\"]==\"DS\",\"More_response\"] = \"Distribution stays roughly the same.\"\n",
    "    df_to_return.loc[df_to_modify[exp+\"100_response\"]==\"MW\",\"More_response\"] = \"Distribution becomes wider.\"\n",
    "\n",
    "    df_to_return.loc[df_to_modify[exp+\"E_response\"]==\"MN\",\"Better_response\"] = \"Distribution becomes narrower.\"\n",
    "    df_to_return.loc[df_to_modify[exp+\"E_response\"]==\"SV\",\"Better_response\"] = \"A single value is measured.\"\n",
    "    df_to_return.loc[df_to_modify[exp+\"E_response\"]==\"DS\",\"Better_response\"] = \"Distribution stays roughly the same.\"\n",
    "    df_to_return.loc[df_to_modify[exp+\"E_response\"]==\"MW\",\"Better_response\"] = \"Distribution becomes wider.\"\n",
    "    return df_to_return\n",
    "\n"
   ]
  },
  {
   "cell_type": "code",
   "execution_count": 15,
   "id": "6bc0244c",
   "metadata": {},
   "outputs": [],
   "source": [
    "df1 = recode_mb(MB1, pd.DataFrame({\"ResponseId\":MB1[\"Student.ID\"]}), \"PM\")\n",
    "df2 = recode_mb(MB1, pd.DataFrame({\"ResponseId\":MB1[\"Student.ID\"]}), \"SG\")\n",
    "MB2 = MB2.fillna(0)\n",
    "\n",
    "mb = pd.concat([df1,df2,MB2])"
   ]
  },
  {
   "cell_type": "code",
   "execution_count": 16,
   "id": "04669c1c",
   "metadata": {},
   "outputs": [],
   "source": [
    "mb.to_excel(\"more_better.xlsx\")"
   ]
  },
  {
   "cell_type": "code",
   "execution_count": null,
   "id": "ef04a56e",
   "metadata": {},
   "outputs": [],
   "source": []
  },
  {
   "cell_type": "code",
   "execution_count": null,
   "id": "8fc0ddb7",
   "metadata": {},
   "outputs": [],
   "source": []
  }
 ],
 "metadata": {
  "kernelspec": {
   "display_name": "Python 3 (ipykernel)",
   "language": "python",
   "name": "python3"
  },
  "language_info": {
   "codemirror_mode": {
    "name": "ipython",
    "version": 3
   },
   "file_extension": ".py",
   "mimetype": "text/x-python",
   "name": "python",
   "nbconvert_exporter": "python",
   "pygments_lexer": "ipython3",
   "version": "3.9.12"
  }
 },
 "nbformat": 4,
 "nbformat_minor": 5
}
